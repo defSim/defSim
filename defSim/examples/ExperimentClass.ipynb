{
 "cells": [
  {
   "cell_type": "markdown",
   "metadata": {},
   "source": [
    "This example shows how you can use the Experiment class to execute a set of simulations. "
   ]
  },
  {
   "cell_type": "code",
   "execution_count": 26,
   "metadata": {
    "collapsed": true
   },
   "outputs": [],
   "source": [
    "import defSim as ds\n",
    "import matplotlib.pyplot as plt\n",
    "import numpy as np"
   ]
  },
  {
   "cell_type": "markdown",
   "metadata": {},
   "source": [
    "### The Experiment class\n",
    "\n",
    "Here, we use the Experiment class to run a bounded confidence model on a grid, varying the communication regime. At each timestep, a randomly drawn agent will send his opinion to one (one-to-one) or all (one-to-many) of its neighbors. The agent who receives the opinion decides to adopt - moving towards the sending agent's opinion - or reject the opinion based on whether their difference is smaller than the confidence level. In the example below, the confidence level is set to 0.25.\n",
    "\n",
    "All parameters are set to one value, except the communication_regime parameter. This parameter receives a list and automatically converts this list to two conditions. Each condition is run as many times as is passed to the repetitions parameter."
   ]
  },
  {
   "cell_type": "code",
   "execution_count": 2,
   "metadata": {},
   "outputs": [],
   "source": [
    "my_experiment = ds.Experiment(seed=314,\n",
    "                              influence_function=\"bounded_confidence\",\n",
    "                              attributes_initializer=\"random_continuous\",\n",
    "                              attribute_parameters={\"num_features\": 1},\n",
    "                              dissimilarity_measure=\"euclidean\",\n",
    "                              topology=\"grid\",\n",
    "                              network_parameters={'num_agents': 49,\n",
    "                                                  \"neighborhood\": \"moore\"},\n",
    "                              influence_parameters={\"confidence_level\": .25},\n",
    "                              communication_regime=['one-to-one', 'one-to-many'],\n",
    "                              max_iterations=10000,\n",
    "                              repetitions=20)"
   ]
  },
  {
   "cell_type": "code",
   "execution_count": 3,
   "metadata": {
    "collapsed": false
   },
   "outputs": [
    {
     "name": "stdout",
     "output_type": "stream",
     "text": [
      "40 different parameter combinations\n"
     ]
    }
   ],
   "source": [
    "my_results = my_experiment.run(parallel=True)\n"
   ]
  },
  {
   "cell_type": "code",
   "execution_count": 91,
   "metadata": {},
   "outputs": [
    {
     "data": {
      "image/png": "[encoded data removed]",
      "text/plain": [
       "<Figure size 216x216 with 2 Axes>"
      ]
     },
     "metadata": {},
     "output_type": "display_data"
    }
   ],
   "source": [
    "fig, ax1 = plt.subplots(figsize=[3,3])\n",
    "\n",
    "plt.tight_layout()\n",
    "\n",
    "x = ['one-to-one', 'one-to-many']\n",
    "y = [sum(my_results.loc[my_results['communication_regime'] == 'one-to-one', 'Homogeneity']) / 20,\n",
    "     sum(my_results.loc[my_results['communication_regime'] == 'one-to-many', 'Homogeneity']) / 20]\n",
    "e = [np.std(my_results.loc[my_results['communication_regime'] == 'one-to-one', 'Homogeneity']),\n",
    "     np.std(my_results.loc[my_results['communication_regime'] == 'one-to-many', 'Homogeneity'])]\n",
    "\n",
    "ax1.errorbar(x, y, e,\n",
    "             marker='o',\n",
    "             color='b',\n",
    "             capsize=5,\n",
    "             capthick=2)\n",
    "ax1.set_ylim(0, 1)\n",
    "ax1.set_xlim(-0.25, 1.25)\n",
    "plt.xlabel('Communication regime', fontweight='bold')\n",
    "plt.ylabel(r'$S_{max}$ / $N$', fontweight='bold', color='blue')\n",
    "\n",
    "ax2 = ax1.twinx()\n",
    "x2 = ['one-to-one', 'one-to-many']\n",
    "y2 = [sum(my_results.loc[my_results['communication_regime'] == 'one-to-one', 'AverageDistance']) / 20,\n",
    "     sum(my_results.loc[my_results['communication_regime'] == 'one-to-many', 'AverageDistance']) / 20]\n",
    "e2 = [np.std(my_results.loc[my_results['communication_regime'] == 'one-to-one', 'AverageDistance']),\n",
    "     np.std(my_results.loc[my_results['communication_regime'] == 'one-to-many', 'AverageDistance'])]\n",
    "plt.errorbar(x2, y2, e2,\n",
    "             marker='o',\n",
    "             color='r',\n",
    "             capsize=5,\n",
    "             capthick=2)\n",
    "ax2.set_ylim(0, 1)\n",
    "plt.ylabel('Average Distance', fontweight='bold', color='red', rotation=-90, labelpad=16)\n",
    "\n",
    "#plt.savefig('/Users/marijnkeijzer/Desktop/lowmodularity.png', dpi=144, bbox_inches='tight')\n",
    "\n",
    "plt.show()\n"
   ]
  }
 ],
 "metadata": {
  "kernelspec": {
   "display_name": "Python 2",
   "language": "python",
   "name": "python2"
  },
  "language_info": {
   "codemirror_mode": {
    "name": "ipython",
    "version": 2
   },
   "file_extension": ".py",
   "mimetype": "text/x-python",
   "name": "python",
   "nbconvert_exporter": "python",
   "pygments_lexer": "ipython2",
   "version": "2.7.6"
  }
 },
 "nbformat": 4,
 "nbformat_minor": 0
}
